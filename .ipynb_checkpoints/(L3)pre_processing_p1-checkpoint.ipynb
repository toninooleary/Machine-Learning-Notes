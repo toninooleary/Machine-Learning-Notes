{
 "cells": [
  {
   "cell_type": "markdown",
   "metadata": {},
   "source": [
    "# Pre-Processing\n",
    "\n",
    "![Diagram](./pictures/steps_in_ml.PNG \"Framework for network/model training\")\n",
    "\n",
    "## Pre processing data\n",
    "* manipulating the data before it it used in training.\n",
    "* You may want to apply some human perspective in this step. This could enhance performance.\n",
    "    \n",
    "#### Input Normalisation:\n",
    "* putting data into the same scale\n",
    "    * Useful for training.\n",
    "\n",
    "#### Dimensionality reduction:\n",
    "* Using maths to reduce the number of dimensions\n",
    "\n",
    "#### Feature selection:\n",
    "* include and exclude data without changing them. e.g. remove large sections of sky from your data\n",
    "\n",
    "#### Feature extraction:\n"
   ]
  },
  {
   "cell_type": "code",
   "execution_count": null,
   "metadata": {},
   "outputs": [],
   "source": []
  }
 ],
 "metadata": {
  "kernelspec": {
   "display_name": "Python 3",
   "language": "python",
   "name": "python3"
  },
  "language_info": {
   "codemirror_mode": {
    "name": "ipython",
    "version": 3
   },
   "file_extension": ".py",
   "mimetype": "text/x-python",
   "name": "python",
   "nbconvert_exporter": "python",
   "pygments_lexer": "ipython3",
   "version": "3.7.4"
  }
 },
 "nbformat": 4,
 "nbformat_minor": 2
}
